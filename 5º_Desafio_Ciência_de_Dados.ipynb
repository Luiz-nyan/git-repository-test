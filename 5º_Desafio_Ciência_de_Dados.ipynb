{
  "nbformat": 4,
  "nbformat_minor": 0,
  "metadata": {
    "colab": {
      "provenance": [],
      "mount_file_id": "1Xk8UNcPCxsciAT-MDiGdF-qKF62Sqhw4",
      "authorship_tag": "ABX9TyM87jftG2JzbPRHt39TsVW0",
      "include_colab_link": true
    },
    "kernelspec": {
      "name": "python3",
      "display_name": "Python 3"
    },
    "language_info": {
      "name": "python"
    }
  },
  "cells": [
    {
      "cell_type": "markdown",
      "metadata": {
        "id": "view-in-github",
        "colab_type": "text"
      },
      "source": [
        "<a href=\"https://colab.research.google.com/github/Luiz-nyan/git-repository-test/blob/main/5%C2%BA_Desafio_Ci%C3%AAncia_de_Dados.ipynb\" target=\"_parent\"><img src=\"https://colab.research.google.com/assets/colab-badge.svg\" alt=\"Open In Colab\"/></a>"
      ]
    },
    {
      "cell_type": "markdown",
      "source": [],
      "metadata": {
        "id": "mhzo7XzEnCEy"
      }
    },
    {
      "cell_type": "code",
      "source": [
        "import matplotlib.pyplot as plt\n",
        "import pandas as pd\n",
        "import seaborn as sns\n",
        "\n",
        "from google.colab import drive\n",
        "drive.mount('/content/gdrive')\n",
        "\n",
        "\n",
        "df=pd.read_csv('/content/gdrive/MyDrive/FAPEMA - Ciência de Dados/C Planilha do desafio 5 - Ciência de dados - Relatório do Banco x.csv', sep=',')\n",
        "\n",
        "print(df)"
      ],
      "metadata": {
        "colab": {
          "base_uri": "https://localhost:8080/"
        },
        "id": "dCQGNyKoqRbg",
        "outputId": "7bc35fb8-b26d-435f-f154-e3efaa77426d"
      },
      "execution_count": 2,
      "outputs": [
        {
          "output_type": "stream",
          "name": "stdout",
          "text": [
            "Mounted at /content/gdrive\n",
            "       Id  Pontos Estado     Genero  Idade  Bens  Saldo na Conta  Produto  \\\n",
            "0       1     619     BA   Feminino     42     2               0        1   \n",
            "1       2     608     CE   Feminino     41     1         8380786        1   \n",
            "2       3     502     BA   Feminino     42     8         1596608        3   \n",
            "3       4     699     BA   Feminino     39     1               0        2   \n",
            "4       5     850     CE   Feminino     43     2        12551082        1   \n",
            "..    ...     ...    ...        ...    ...   ...             ...      ...   \n",
            "994   996     838     CE  Masculino     43     9        12310588        2   \n",
            "995   997     610     CE  Masculino     29     9               0        3   \n",
            "996   998     811     CE  Masculino     44     3               0        2   \n",
            "997   999     587     CE  Masculino     62     7        12128627        1   \n",
            "998  1000     811     CE   Feminino     28     4        16773882        2   \n",
            "\n",
            "     Possui cartao  Ativo     Salario  Saiu  \n",
            "0                1      1  10134888.0     1  \n",
            "1                0      1  11254258.0     0  \n",
            "2                1      0  11393157.0     1  \n",
            "3                0      0   9382663.0     0  \n",
            "4                1      1    790841.0     0  \n",
            "..             ...    ...         ...   ...  \n",
            "994              1      0  14576583.0     0  \n",
            "995              0      1   8391224.0     0  \n",
            "996              0      1   7843973.0     0  \n",
            "997              0      1    677692.0     0  \n",
            "998              1      1    990342.0     0  \n",
            "\n",
            "[999 rows x 12 columns]\n"
          ]
        }
      ]
    },
    {
      "cell_type": "code",
      "source": [
        "# Transforma coluna em maiusculo\n",
        "df.columns = df.columns.str.upper()\n",
        "\n",
        "print(df.columns.str.upper())"
      ],
      "metadata": {
        "colab": {
          "base_uri": "https://localhost:8080/"
        },
        "collapsed": true,
        "id": "-AnN0CCHDGhj",
        "outputId": "2ff56971-9155-453d-b4ac-8def64592fc9"
      },
      "execution_count": 3,
      "outputs": [
        {
          "output_type": "stream",
          "name": "stdout",
          "text": [
            "Index(['ID', 'PONTOS', 'ESTADO', 'GENERO', 'IDADE', 'BENS', 'SALDO NA CONTA',\n",
            "       'PRODUTO', 'POSSUI CARTAO', 'ATIVO', 'SALARIO', 'SAIU'],\n",
            "      dtype='object')\n"
          ]
        }
      ]
    },
    {
      "cell_type": "code",
      "source": [
        "# Inclui dados restantes da coluna GENERO\n",
        "mode_genero = df['GENERO'].mode()[0]\n",
        "df['GENERO'].fillna(mode_genero, inplace=True)\n",
        "\n",
        "print(df['GENERO'].isna().sum())"
      ],
      "metadata": {
        "colab": {
          "base_uri": "https://localhost:8080/"
        },
        "id": "wvg39WW2p4Oe",
        "outputId": "96e0227a-9579-4bc0-837f-13ecab51a799"
      },
      "execution_count": 4,
      "outputs": [
        {
          "output_type": "stream",
          "name": "stdout",
          "text": [
            "0\n"
          ]
        }
      ]
    },
    {
      "cell_type": "code",
      "source": [
        "# Corrigir os dados categóricos, por exemplo, \"Mas\" para \"Masculino\" e \"Fem\" para \"Feminino\" para adequá-los ao padrão dos demais;\n",
        "# Dicionário de substituição\n",
        "replace_dict = {\n",
        "    'M': 'Masculino',\n",
        "    'Masc': 'Masculino',\n",
        "    'F': 'Feminino',\n",
        "    'Fem': 'Feminino',\n",
        "    'Feminino': 'Feminino'\n",
        "}\n",
        "\n",
        "# Substituindo valores usando o dicionário\n",
        "df['GENERO'] = df['GENERO'].replace(replace_dict)\n",
        "\n",
        "print(df['GENERO'].unique())\n"
      ],
      "metadata": {
        "colab": {
          "base_uri": "https://localhost:8080/"
        },
        "collapsed": true,
        "id": "CsVuGCp8qjaC",
        "outputId": "7bfb1ae9-989f-49c6-b54f-24ec5acec67b"
      },
      "execution_count": 5,
      "outputs": [
        {
          "output_type": "stream",
          "name": "stdout",
          "text": [
            "['Feminino' 'Masculino']\n"
          ]
        }
      ]
    },
    {
      "cell_type": "code",
      "source": [
        "# Exibir as linhas duplicadas\n",
        "duplicated_rows = df[df.duplicated()]\n",
        "print(\"Linhas duplicadas:\")\n",
        "print(duplicated_rows)"
      ],
      "metadata": {
        "colab": {
          "base_uri": "https://localhost:8080/"
        },
        "id": "ELoKj523EDL9",
        "outputId": "4800b5e8-0e33-4554-ab8f-79d53c4061c7"
      },
      "execution_count": 6,
      "outputs": [
        {
          "output_type": "stream",
          "name": "stdout",
          "text": [
            "Linhas duplicadas:\n",
            "    ID  PONTOS ESTADO    GENERO  IDADE  BENS  SALDO NA CONTA  PRODUTO  \\\n",
            "81  81     665     MA  Feminino     34     1         9664554        2   \n",
            "\n",
            "    POSSUI CARTAO  ATIVO     SALARIO  SAIU  \n",
            "81              0      0  17141366.0     0  \n"
          ]
        }
      ]
    },
    {
      "cell_type": "code",
      "source": [
        "# Eliminar dados duplicados\n",
        "df = df.drop_duplicates()\n",
        "\n",
        "print(df[df.duplicated()])"
      ],
      "metadata": {
        "colab": {
          "base_uri": "https://localhost:8080/"
        },
        "id": "rphBRtv15MfO",
        "outputId": "3495e727-62c5-4751-e4b7-9bc1a8271cf3"
      },
      "execution_count": 7,
      "outputs": [
        {
          "output_type": "stream",
          "name": "stdout",
          "text": [
            "Empty DataFrame\n",
            "Columns: [ID, PONTOS, ESTADO, GENERO, IDADE, BENS, SALDO NA CONTA, PRODUTO, POSSUI CARTAO, ATIVO, SALARIO, SAIU]\n",
            "Index: []\n"
          ]
        }
      ]
    },
    {
      "cell_type": "code",
      "source": [
        "# Substituir os NANs por valores adequados;\n",
        "\n",
        "# NANs de todo o DataFrame:\n",
        "print(df.isna().sum())\n",
        "\n",
        "# Localização dos NANs\n",
        "nan_locations = df.isnull().stack()\n",
        "nan_locations = nan_locations[nan_locations]\n",
        "\n",
        "print(nan_locations)\n",
        "\n",
        "# Correção dos NANs da coluna SALARIO pela mediana\n",
        "df['SALARIO'].fillna(df['SALARIO'].median(), inplace=True)"
      ],
      "metadata": {
        "colab": {
          "base_uri": "https://localhost:8080/"
        },
        "id": "wF1I8NSy-95D",
        "outputId": "97ba4f42-769e-40e6-f537-b28272c19bae"
      },
      "execution_count": 20,
      "outputs": [
        {
          "output_type": "stream",
          "name": "stdout",
          "text": [
            "ID                0\n",
            "PONTOS            0\n",
            "ESTADO            0\n",
            "GENERO            0\n",
            "IDADE             0\n",
            "BENS              0\n",
            "SALDO NA CONTA    0\n",
            "PRODUTO           0\n",
            "POSSUI CARTAO     0\n",
            "ATIVO             0\n",
            "SALARIO           0\n",
            "SAIU              0\n",
            "dtype: int64\n",
            "Series([], dtype: bool)\n"
          ]
        }
      ]
    },
    {
      "cell_type": "code",
      "source": [
        "# Eliminar os outliers, atribuindo no lugar deles os valores adequados;\n",
        "\n",
        "# Definindo o intervalo válido para as idades\n",
        "idade_min = 1\n",
        "idade_max = 120\n",
        "\n",
        "# Calcular a média das idades válidas\n",
        "media_idade = df.loc[(df['IDADE'] >= idade_min) & (df['IDADE'] <= idade_max), 'IDADE'].mean()\n",
        "\n",
        "# Substituir os outliers pela média calculada\n",
        "df['IDADE'] = df['IDADE'].apply(lambda x: media_idade if (x < idade_min or x > idade_max) else x)\n",
        "\n",
        "# Verificar a mudança no histograma\n",
        "plt.figure(figsize=(10, 6))\n",
        "sns.histplot(df['IDADE'], bins=20, kde=True)\n",
        "plt.title('Histograma das idades após substituição dos outliers')\n",
        "plt.show()"
      ],
      "metadata": {
        "colab": {
          "base_uri": "https://localhost:8080/",
          "height": 565
        },
        "id": "X3MN-UTdk5LS",
        "outputId": "4dfa6ea8-1b45-4983-b743-a5a1af9250c7"
      },
      "execution_count": 29,
      "outputs": [
        {
          "output_type": "display_data",
          "data": {
            "text/plain": [
              "<Figure size 1000x600 with 1 Axes>"
            ],
            "image/png": "[encoded data removed]"
          },
          "metadata": {}
        }
      ]
    },
    {
      "cell_type": "code",
      "source": [],
      "metadata": {
        "id": "K0f3DFaZo7eN"
      },
      "execution_count": null,
      "outputs": []
    }
  ]
}